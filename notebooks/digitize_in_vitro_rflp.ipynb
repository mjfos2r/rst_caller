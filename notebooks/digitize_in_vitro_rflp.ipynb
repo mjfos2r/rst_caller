{
 "cells": [
  {
   "cell_type": "code",
   "execution_count": 439,
   "id": "8e3a2589-bf3b-4dab-9de8-1e4fcfe81569",
   "metadata": {},
   "outputs": [],
   "source": [
    "from Bio import Restriction\n",
    "from Bio import SeqIO\n",
    "from Bio.SeqRecord import SeqRecord\n",
    "from Bio.Seq import Seq\n",
    "from pathlib import Path\n",
    "import pandas"
   ]
  },
  {
   "cell_type": "code",
   "execution_count": 410,
   "id": "56b147f8-471e-4d27-a28b-23e6e2e7262f",
   "metadata": {},
   "outputs": [],
   "source": [
    "#records = [rec for rec in SeqIO.parse(eu01_gbff, 'genbank')]\n",
    "b31_fna = Path('GCF_000008685.2_ASM868v2_genomic.fna')\n",
    "bol26_fna = Path('GCA_000181575.2_ASM18157v2_genomic.fna')\n",
    "pabe_fna = Path('GCA_002151485.1_ASM215148v1_genomic.fna')\n",
    "eu01_gbff = Path('EU_Bb_01.gbff')\n",
    "eu01_fna = Path('EU_Bb_01.fna')"
   ]
  },
  {
   "cell_type": "code",
   "execution_count": 336,
   "id": "b6f835b9-cef5-4a63-b083-0748f7e60c39",
   "metadata": {},
   "outputs": [
    {
     "name": "stdout",
     "output_type": "stream",
     "text": [
      "HinfI: GANTC\n",
      "MseI: TTAA\n"
     ]
    }
   ],
   "source": [
    "enzymes = [\n",
    "    Restriction.HinfI, Restriction.MseI\n",
    "]\n",
    "for enzyme in enzymes:\n",
    "    print(f\"{enzyme}: {enzyme.site}\")"
   ]
  },
  {
   "cell_type": "code",
   "execution_count": 180,
   "id": "8016e571-052e-4f06-833b-14c6fc8cca4f",
   "metadata": {},
   "outputs": [
    {
     "name": "stdout",
     "output_type": "stream",
     "text": [
      "['rrf'] 882902 883013\n"
     ]
    }
   ],
   "source": [
    "rrna_its = SeqRecord(Seq(\"\"), id='rRNA_ITS', name='rRNA_ITS', description='rRNA_ITS sequence')\n",
    "its_start = 0\n",
    "its_end = 0\n",
    "for rec in records:\n",
    "    for feat in rec.features:\n",
    "        if feat.type == 'gene':\n",
    "            gene_name = feat.qualifiers.get('gene','')\n",
    "            gene_loc = feat.location\n",
    "            if 'rrf' in gene_name:\n",
    "                print(gene_name, gene_loc.start, gene_loc.end)\n",
    "                its_start = gene_loc.end - 20\n",
    "                its_end = its_start + 1712 + 20\n",
    "                rrna_its.seq = rec.seq[slice(its_start, its_end)]\n",
    "                break\n",
    "            # if 'rrs' in gene_name:\n",
    "            #     print(gene_name, gene_loc.start, gene_loc.end)\n",
    "            #     rrs_start.append(gene_loc.start)\n",
    "            #     rrs_end.append(gene_loc.end)\n",
    "            #     if len(rrs_start) == 2:\n",
    "            #         its_end = sorted(rrs_start)[0]\n",
    "            #         print('ITS_coords', its_start, its_end)\n",
    "            #         print('Len sequence', its_end - its_start)\n",
    "            #         rrna_its.seq = rec.seq[slice(its_start, its_end)]\n",
    "            #         break"
   ]
  },
  {
   "cell_type": "code",
   "execution_count": 515,
   "id": "c54d5de9-dd62-42c6-bc47-bdea19c4392b",
   "metadata": {},
   "outputs": [],
   "source": [
    "import subprocess\n",
    "import io\n",
    "from Bio import Restriction\n",
    "from Bio import SeqIO\n",
    "from Bio.SeqRecord import SeqRecord\n",
    "from Bio.Seq import Seq\n",
    "from pathlib import Path\n",
    "\n",
    "# patterns, primers, and type definitions are from Liveris et al. (1995)\n",
    "rflp_patterns = {\n",
    "    'H1':[1078,372,310],\n",
    "    'H2':[1078,310,241,131],\n",
    "    'M1':[258,149,136,128,102],\n",
    "    'M2':[364,258,136,102],\n",
    "}\n",
    "\n",
    "rst_types = {\n",
    "    1: ['H1', 'M1'],\n",
    "    2: ['H2', 'M2'],\n",
    "    3: ['H2', 'M1'],\n",
    "}\n",
    "\n",
    "def fuzzy_match(observed, expected, tolerance=10):\n",
    "    unmatched = expected[:]\n",
    "    for obs in observed:\n",
    "        for exp in unmatched:\n",
    "            if abs(obs-exp) <= tolerance:\n",
    "                unmatched.remove(exp)\n",
    "                break\n",
    "    return len(unmatched) == 0\n",
    "\n",
    "def get_best_pattern(obs_frags, enzyme, tolerance=10):\n",
    "    candidates = []\n",
    "    for pat_name, pat_frags in rflp_patterns.items():\n",
    "        if pat_name.startswith(enzyme[0]) and fuzzy_match(obs_frags, sorted(pat_frags), tolerance):\n",
    "            candidates.append(pat_name)\n",
    "    return candidates\n",
    "\n",
    "def amplify_and_cut(input_fa_file):\n",
    "    # primers from Liveris et al. (1995)\n",
    "    fwd = \"GGTATGTTTAGTGAGGG\"\n",
    "    rev = \"CAGGCTCTACACTTCTG\"\n",
    "    \n",
    "    with open(input_fa_file, 'r') as f:\n",
    "        proc_out = subprocess.run(\n",
    "            [\"seqkit\", \"amplicon\", \n",
    "             \"-F\", fwd, \"-R\", rev, \n",
    "             \"-m\", \"2\", \"-M\", \"-I\"],\n",
    "            stdin=f,\n",
    "            text=True,\n",
    "            capture_output=True,\n",
    "        )\n",
    "        \n",
    "        amplicon = [rec for rec in SeqIO.parse(io.StringIO(proc_out.stdout), 'fasta')][0]\n",
    "        # run the digestion but toss out the MseI fragments below 100.\n",
    "        HinfI_fragments = sorted({len(frag) for frag in Restriction.HinfI.catalyze(amplicon.seq, linear=True)})\n",
    "        MseI_fragments = sorted({len(frag) for frag in Restriction.MseI.catalyze(amplicon.seq, linear=True) if len(frag) >= 100})\n",
    "        \n",
    "        # this is not optimal but this is the only way I can get it to return types that have been experimentally determined.\n",
    "        H_match = get_best_pattern(HinfI_fragments, 'HinfI', 45)\n",
    "        M_match = get_best_pattern(MseI_fragments, 'MseI', 17)\n",
    "        if not quiet:\n",
    "            print(amplicon.description.split(' ')[-1], len(amplicon.seq))\n",
    "            print(f\"HinfI fragments: {HinfI_fragments}\")\n",
    "            print(f\" MseI fragments: {MseI_fragments}\")\n",
    "            print(f\"Matched HinfI Pattern: {H_match}\")\n",
    "            print(f\" Matched MseI Pattern: {M_match}\")\n",
    "            \n",
    "        if not H_match or not M_match:\n",
    "            # I want to return 0 if one of the patterns doesn't match\n",
    "            # but isn't RST3 anything not 1 or 2? 0 for now to make debugging easier.\n",
    "            if not quiet:\n",
    "               print(\"Error: Novel fragment pattern detected!\")\n",
    "            return 0,  HinfI_fragments, MseI_fragments\n",
    "            \n",
    "        for rst, (hpat, mpat) in rst_types.items():\n",
    "            if hpat in H_match and mpat in M_match:\n",
    "                called_RST = rst\n",
    "            if not quiet:    \n",
    "                print(f\"Matched RST: {called_RST}\")\n",
    "                \n",
    "        return called_RST, HinfI_fragments, MseI_fragments"
   ]
  },
  {
   "cell_type": "code",
   "execution_count": 516,
   "id": "8a4dc8e6-0d8e-425c-9853-e70e869e5506",
   "metadata": {},
   "outputs": [
    {
     "name": "stdout",
     "output_type": "stream",
     "text": [
      "(1, [302, 373, 1037], [105, 129, 137, 148, 258])\n"
     ]
    }
   ],
   "source": [
    "frags = amp_n_cut(chrom_fa)\n",
    "print(frags)"
   ]
  },
  {
   "cell_type": "code",
   "execution_count": 517,
   "id": "f7126842-c738-42aa-a47a-700879ab480b",
   "metadata": {},
   "outputs": [
    {
     "name": "stdout",
     "output_type": "stream",
     "text": [
      "(3, [40, 68, 172, 307, 373, 589, 805, 1015], [100, 119, 122, 127, 174, 211, 258, 424])\n"
     ]
    }
   ],
   "source": [
    "frags = amp_n_cut(eu01_fna)\n",
    "print(frags)"
   ]
  },
  {
   "cell_type": "code",
   "execution_count": 518,
   "id": "c710100a-5904-4364-ab72-d74003fd8d57",
   "metadata": {},
   "outputs": [
    {
     "data": {
      "text/plain": [
       "(1, [302, 373, 1037], [105, 129, 137, 148, 258])"
      ]
     },
     "execution_count": 518,
     "metadata": {},
     "output_type": "execute_result"
    }
   ],
   "source": [
    "amp_n_cut(bol26_fna)"
   ]
  },
  {
   "cell_type": "code",
   "execution_count": 519,
   "id": "10e446cf-a876-41de-96b8-fe180587f4df",
   "metadata": {},
   "outputs": [
    {
     "data": {
      "text/plain": [
       "(1, [302, 373, 1037], [105, 129, 137, 148, 258])"
      ]
     },
     "execution_count": 519,
     "metadata": {},
     "output_type": "execute_result"
    }
   ],
   "source": [
    "amp_n_cut(pabe_fna)"
   ]
  },
  {
   "cell_type": "code",
   "execution_count": 520,
   "id": "1905db24-c60c-44a6-b918-2b66b1048184",
   "metadata": {},
   "outputs": [
    {
     "data": {
      "text/html": [
       "<div>\n",
       "<style scoped>\n",
       "    .dataframe tbody tr th:only-of-type {\n",
       "        vertical-align: middle;\n",
       "    }\n",
       "\n",
       "    .dataframe tbody tr th {\n",
       "        vertical-align: top;\n",
       "    }\n",
       "\n",
       "    .dataframe thead th {\n",
       "        text-align: right;\n",
       "    }\n",
       "</style>\n",
       "<table border=\"1\" class=\"dataframe\">\n",
       "  <thead>\n",
       "    <tr style=\"text-align: right;\">\n",
       "      <th></th>\n",
       "      <th>Strain_ID</th>\n",
       "      <th>Alias</th>\n",
       "      <th>Assembly_ID</th>\n",
       "      <th>RST</th>\n",
       "    </tr>\n",
       "  </thead>\n",
       "  <tbody>\n",
       "    <tr>\n",
       "      <th>0</th>\n",
       "      <td>B-17/2013</td>\n",
       "      <td>Gr-39</td>\n",
       "      <td>ASM1913465v1</td>\n",
       "      <td>3</td>\n",
       "    </tr>\n",
       "    <tr>\n",
       "      <th>1</th>\n",
       "      <td>PAli</td>\n",
       "      <td>NaN</td>\n",
       "      <td>ASM215146v1</td>\n",
       "      <td>1</td>\n",
       "    </tr>\n",
       "    <tr>\n",
       "      <th>2</th>\n",
       "      <td>PAbe</td>\n",
       "      <td>NaN</td>\n",
       "      <td>ASM215148v1</td>\n",
       "      <td>1</td>\n",
       "    </tr>\n",
       "    <tr>\n",
       "      <th>3</th>\n",
       "      <td>B31_NRZ</td>\n",
       "      <td>NaN</td>\n",
       "      <td>ASM215150v1</td>\n",
       "      <td>1</td>\n",
       "    </tr>\n",
       "    <tr>\n",
       "      <th>4</th>\n",
       "      <td>B408</td>\n",
       "      <td>NaN</td>\n",
       "      <td>ASM2466215v1</td>\n",
       "      <td>3</td>\n",
       "    </tr>\n",
       "    <tr>\n",
       "      <th>...</th>\n",
       "      <td>...</td>\n",
       "      <td>...</td>\n",
       "      <td>...</td>\n",
       "      <td>...</td>\n",
       "    </tr>\n",
       "    <tr>\n",
       "      <th>77</th>\n",
       "      <td>UWI247P</td>\n",
       "      <td>MC104</td>\n",
       "      <td>NaN</td>\n",
       "      <td>2</td>\n",
       "    </tr>\n",
       "    <tr>\n",
       "      <th>78</th>\n",
       "      <td>UWI248P</td>\n",
       "      <td>MC105</td>\n",
       "      <td>NaN</td>\n",
       "      <td>2</td>\n",
       "    </tr>\n",
       "    <tr>\n",
       "      <th>79</th>\n",
       "      <td>UWI263P</td>\n",
       "      <td>MC123</td>\n",
       "      <td>NaN</td>\n",
       "      <td>2</td>\n",
       "    </tr>\n",
       "    <tr>\n",
       "      <th>80</th>\n",
       "      <td>UWI283P</td>\n",
       "      <td>MC149</td>\n",
       "      <td>NaN</td>\n",
       "      <td>3</td>\n",
       "    </tr>\n",
       "    <tr>\n",
       "      <th>81</th>\n",
       "      <td>XYZ459H</td>\n",
       "      <td>XD1H</td>\n",
       "      <td>NaN</td>\n",
       "      <td>3</td>\n",
       "    </tr>\n",
       "  </tbody>\n",
       "</table>\n",
       "<p>82 rows × 4 columns</p>\n",
       "</div>"
      ],
      "text/plain": [
       "    Strain_ID  Alias   Assembly_ID  RST\n",
       "0   B-17/2013  Gr-39  ASM1913465v1    3\n",
       "1        PAli    NaN   ASM215146v1    1\n",
       "2        PAbe    NaN   ASM215148v1    1\n",
       "3     B31_NRZ    NaN   ASM215150v1    1\n",
       "4        B408    NaN  ASM2466215v1    3\n",
       "..        ...    ...           ...  ...\n",
       "77    UWI247P  MC104           NaN    2\n",
       "78    UWI248P  MC105           NaN    2\n",
       "79    UWI263P  MC123           NaN    2\n",
       "80    UWI283P  MC149           NaN    3\n",
       "81    XYZ459H   XD1H           NaN    3\n",
       "\n",
       "[82 rows x 4 columns]"
      ]
     },
     "execution_count": 520,
     "metadata": {},
     "output_type": "execute_result"
    }
   ],
   "source": [
    "metadata = pandas.read_csv('old_metadata.tsv', sep='\\t')\n",
    "metadata"
   ]
  },
  {
   "cell_type": "code",
   "execution_count": 521,
   "id": "0e25e6a8-80e4-4f5f-9bc4-ea3f3ec8bb9a",
   "metadata": {},
   "outputs": [
    {
     "name": "stdout",
     "output_type": "stream",
     "text": [
      "ASM4079076v1\t3\t3\tTrue\n",
      "B418P\t3\t3\tTrue\n",
      "ASM215146v1\t1\t1\tTrue\n",
      "URI87H\t1\t1\tTrue\n",
      "URI34H\t3\t3\tTrue\n",
      "URI88H\t2\t2\tTrue\n",
      "URI33H\t2\t2\tTrue\n",
      "UCT110H\t2\t2\tTrue\n",
      "URI39H\t1\t1\tTrue\n",
      "URI91H\t1\t1\tTrue\n",
      "UCT35H\t3\t3\tTrue\n",
      "ESI361H\t3\t3\tTrue\n",
      "UWI247P\t2\t2\tTrue\n",
      "URI120H\t1\t1\tTrue\n",
      "URI107H\t1\t1\tTrue\n",
      "ASM215150v1\t1\t1\tTrue\n",
      "UWI263P\t2\t2\tTrue\n",
      "ASM4079079v1\t2\t2\tTrue\n",
      "ASM4079078v1\t3\t3\tTrue\n",
      "URI89H\t1\t1\tTrue\n",
      "URI42H\t1\t1\tTrue\n",
      "URI44H\t2\t2\tTrue\n",
      "UCT109H\t1\t1\tTrue\n",
      "URI40H\t1\t1\tTrue\n",
      "B500P\t3\t3\tTrue\n",
      "URI117H\t2\t2\tTrue\n",
      "URI47H\t2\t2\tTrue\n",
      "URI86H\t2\t2\tTrue\n",
      "ASM4079071v1\t2\t2\tTrue\n",
      "ASM4079075v1\t3\t3\tTrue\n",
      "URI36H\t3\t3\tTrue\n",
      "UNY208P\t2\t2\tTrue\n",
      "ASM4079074v1\t3\t3\tTrue\n",
      "ESI26H\t1\t1\tTrue\n",
      "UCT31H\t1\t1\tTrue\n",
      "ASM4079080v1\t1\t1\tTrue\n",
      "ESI403H\t1\t1\tTrue\n",
      "URI56H\t3\t3\tTrue\n",
      "XYZ459H\t3\t3\tTrue\n",
      "UCT30H\t2\t2\tTrue\n",
      "ASM4079073v1\t2\t2\tTrue\n",
      "PFhe\t0\t1\tFalse\n",
      "URI103H\t2\t2\tTrue\n",
      "UCT29H\t1\t1\tTrue\n",
      "UNY1128P\t3\t3\tTrue\n",
      "URI112H\t2\t2\tTrue\n",
      "UNY1032P\t1\t1\tTrue\n",
      "UWI248P\t2\t2\tTrue\n",
      "UNY203P\t3\t3\tTrue\n",
      "UCT96H\t1\t1\tTrue\n",
      "ASM1913465v1\t3\t3\tTrue\n",
      "ESI425H\t3\t3\tTrue\n",
      "UCT32H\t2\t2\tTrue\n",
      "UNY990P\t2\t2\tTrue\n",
      "UNY193P\t3\t3\tTrue\n",
      "UCT113H\t2\t2\tTrue\n",
      "URI93H\t1\t1\tTrue\n",
      "ASM2466215v1\t3\t3\tTrue\n",
      "UNY169P\t3\t3\tTrue\n",
      "UWI283P\t3\t3\tTrue\n",
      "UNY1090P\t2\t2\tTrue\n",
      "UNY1083P\t3\t3\tTrue\n",
      "B331P\t3\t3\tTrue\n",
      "URI102H\t1\t1\tTrue\n",
      "URI41H\t1\t1\tTrue\n",
      "UNY172P\t3\t3\tTrue\n",
      "ASM4079077v1\t1\t1\tTrue\n",
      "UNY149P\t2\t2\tTrue\n",
      "ASM2466219v1\t1\t1\tTrue\n",
      "UCT92H\t2\t2\tTrue\n",
      "URI118H\t2\t2\tTrue\n",
      "UCT50H\t3\t3\tTrue\n",
      "URI101H\t1\t1\tTrue\n",
      "UNY1085P\t3\t3\tTrue\n",
      "URI46H\t2\t2\tTrue\n",
      "URI48H\t2\t2\tTrue\n",
      "ASM215148v1\t1\t1\tTrue\n",
      "ASM336729v1\t3\t3\tTrue\n",
      "ASM2466217v1\t2\t2\tTrue\n",
      "URI111H\t1\t1\tTrue\n",
      "UCT124H\t1\t1\tTrue\n",
      "UNY1038P\t2\t2\tTrue\n"
     ]
    }
   ],
   "source": [
    "files = Path('/home/mf019/longread_pangenome/expanded_dataset_analysis/assemblies/dataset_v5').glob('**/*.fna')\n",
    "header = [\"assembly_id\", \"existing_type\", \"called_type\", \"calls_match\"]\n",
    "lines = [\"\\t\".join(header)]\n",
    "for file in files:\n",
    "    filename = file.stem\n",
    "    rst_out = amp_n_cut(file)\n",
    "    old_type = ''\n",
    "    if filename.startswith(\"GCF\"):\n",
    "        asm_name = filename.split('_')[2]\n",
    "        #df.loc[df['col_B'] == 'apple', 'col_C']\n",
    "        old_type = metadata.loc[metadata[\"Assembly_ID\"] == asm_name, \"RST\"].to_list()\n",
    "    else:\n",
    "        asm_name = filename\n",
    "        old_type = metadata.loc[metadata[\"Strain_ID\"] == asm_name, \"RST\"].to_list()\n",
    "        if len(old_type) == 0:\n",
    "            old_type = metadata.loc[metadata[\"Alias\"] == asm_name, \"RST\"].to_list()\n",
    "    if len(old_type) > 0:\n",
    "        old_type = old_type[0]\n",
    "    else:\n",
    "        old_type = 0\n",
    "    \n",
    "    line = f\"{asm_name}\\t{old_type}\\t{rst_out[0]}\\t{old_type == rst_out[0]}\"\n",
    "    lines.append(line)\n",
    "    print(line)"
   ]
  },
  {
   "cell_type": "code",
   "execution_count": 514,
   "id": "ebbf4423-4328-4a21-8203-42c66c7d8fc5",
   "metadata": {},
   "outputs": [],
   "source": [
    "with open('rst_caller_test.tsv', 'w') as outf:\n",
    "    contents = \"\\n\".join(lines)\n",
    "    outf.write(contents)"
   ]
  },
  {
   "cell_type": "code",
   "execution_count": null,
   "id": "f4e804c4-857b-435a-9441-e3b698d39070",
   "metadata": {},
   "outputs": [],
   "source": []
  }
 ],
 "metadata": {
  "kernelspec": {
   "display_name": "Python 3 (ipykernel)",
   "language": "python",
   "name": "python3"
  },
  "language_info": {
   "codemirror_mode": {
    "name": "ipython",
    "version": 3
   },
   "file_extension": ".py",
   "mimetype": "text/x-python",
   "name": "python",
   "nbconvert_exporter": "python",
   "pygments_lexer": "ipython3",
   "version": "3.11.9"
  }
 },
 "nbformat": 4,
 "nbformat_minor": 5
}
